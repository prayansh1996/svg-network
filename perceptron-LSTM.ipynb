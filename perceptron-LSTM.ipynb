{
 "cells": [
  {
   "cell_type": "code",
   "execution_count": 1,
   "metadata": {},
   "outputs": [
    {
     "name": "stderr",
     "output_type": "stream",
     "text": [
      "Using TensorFlow backend.\n"
     ]
    }
   ],
   "source": [
    "import numpy as np\n",
    "import keras\n",
    "import tensorflow as tf\n",
    "tf.logging.set_verbosity(tf.logging.ERROR)"
   ]
  },
  {
   "cell_type": "code",
   "execution_count": 54,
   "metadata": {},
   "outputs": [
    {
     "name": "stdout",
     "output_type": "stream",
     "text": [
      "1000000\n"
     ]
    }
   ],
   "source": [
    "x = \"0123456789\"*100000\n",
    "\n",
    "print len(x)"
   ]
  },
  {
   "cell_type": "code",
   "execution_count": 55,
   "metadata": {},
   "outputs": [],
   "source": [
    "dct = ['*'] + list(set(x))\n",
    "max_features = len(dct)\n",
    "rev_dct = [(j, i) for i, j in enumerate(dct)]\n",
    "rev_dct = dict(rev_dct)"
   ]
  },
  {
   "cell_type": "code",
   "execution_count": 56,
   "metadata": {},
   "outputs": [
    {
     "name": "stdout",
     "output_type": "stream",
     "text": [
      "['*', '1', '0', '3', '2', '5', '4', '7', '6', '9', '8']\n",
      "{'*': 0, '1': 1, '0': 2, '3': 3, '2': 4, '5': 5, '4': 6, '7': 7, '6': 8, '9': 9, '8': 10}\n"
     ]
    }
   ],
   "source": [
    "print dct\n",
    "print rev_dct"
   ]
  },
  {
   "cell_type": "code",
   "execution_count": 57,
   "metadata": {},
   "outputs": [
    {
     "name": "stdout",
     "output_type": "stream",
     "text": [
      "1000000\n"
     ]
    }
   ],
   "source": [
    "x = [rev_dct[ch] for ch in x]\n",
    "print len(x)"
   ]
  },
  {
   "cell_type": "code",
   "execution_count": 59,
   "metadata": {},
   "outputs": [
    {
     "name": "stdout",
     "output_type": "stream",
     "text": [
      "(5000, 200)\n"
     ]
    }
   ],
   "source": [
    "n_timestamps = 200\n",
    "x = x[:len(x) - len(x) % n_timestamps]\n",
    "x = np.array(x, dtype='int32').reshape((-1, n_timestamps))\n",
    "print x.shape"
   ]
  },
  {
   "cell_type": "code",
   "execution_count": 26,
   "metadata": {
    "scrolled": true
   },
   "outputs": [
    {
     "name": "stdout",
     "output_type": "stream",
     "text": [
      "[ 2  1  4  3  6  5  8  7 10  9] (5000, 200)\n"
     ]
    }
   ],
   "source": [
    "print x[0][:10], x.shape"
   ]
  },
  {
   "cell_type": "code",
   "execution_count": 60,
   "metadata": {},
   "outputs": [],
   "source": [
    "y = np.zeros((x.shape[0], x.shape[1], max_features), dtype='int32')\n",
    "for i in np.arange(x.shape[0]):\n",
    "    for j in np.arange(x.shape[1]):\n",
    "        y[i, j, x[i, j]] = 1"
   ]
  },
  {
   "cell_type": "code",
   "execution_count": 66,
   "metadata": {},
   "outputs": [
    {
     "name": "stdout",
     "output_type": "stream",
     "text": [
      "(5000, 200, 11)\n",
      "(5000, 200, 11)\n"
     ]
    }
   ],
   "source": [
    "x = np.roll(y, 1, axis=1)\n",
    "x[:, 0, :] = 0\n",
    "x[:, 0, 0] = 1\n",
    "\n",
    "print x.shape\n",
    "print y.shape"
   ]
  },
  {
   "cell_type": "code",
   "execution_count": 36,
   "metadata": {},
   "outputs": [
    {
     "name": "stdout",
     "output_type": "stream",
     "text": [
      "_________________________________________________________________\n",
      "Layer (type)                 Output Shape              Param #   \n",
      "=================================================================\n",
      "lstm_7 (LSTM)                (None, 200, 256)          274432    \n",
      "_________________________________________________________________\n",
      "lstm_8 (LSTM)                (None, 200, 256)          525312    \n",
      "_________________________________________________________________\n",
      "lstm_9 (LSTM)                (None, 200, 256)          525312    \n",
      "_________________________________________________________________\n",
      "dense_3 (Dense)              (None, 200, 11)           2827      \n",
      "_________________________________________________________________\n",
      "activation_3 (Activation)    (None, 200, 11)           0         \n",
      "=================================================================\n",
      "Total params: 1,327,883.0\n",
      "Trainable params: 1,327,883.0\n",
      "Non-trainable params: 0.0\n",
      "_________________________________________________________________\n"
     ]
    }
   ],
   "source": [
    "from keras.models import Sequential\n",
    "from keras.layers import Dense, Dropout, Activation, LSTM\n",
    "\n",
    "model = Sequential()\n",
    "model.add(LSTM(256, return_sequences=True, input_shape=(200,  max_features)))\n",
    "model.add(LSTM(256, return_sequences=True))\n",
    "model.add(LSTM(256, return_sequences=True))\n",
    "model.add(Dense(max_features))\n",
    "model.add(Activation('softmax'))\n",
    "\n",
    "model.compile(loss='categorical_crossentropy', optimizer='rmsprop')\n",
    "model.summary()"
   ]
  },
  {
   "cell_type": "code",
   "execution_count": 38,
   "metadata": {},
   "outputs": [
    {
     "name": "stdout",
     "output_type": "stream",
     "text": [
      "Epoch 1/1\n",
      "52s - loss: 0.1519\n"
     ]
    }
   ],
   "source": [
    "hist = model.fit(x, y, batch_size=64, nb_epoch=1, verbose=2)"
   ]
  },
  {
   "cell_type": "code",
   "execution_count": 40,
   "metadata": {},
   "outputs": [
    {
     "name": "stdout",
     "output_type": "stream",
     "text": [
      "['1123456789', '0123456789', '6922345678', '9113456689', '0023456789', '0123456789', '9123456789', '0123456789', '2223456789', '0023456789', '0123456789', '4013345678', '1023456789', '0013456789', '0123456789', '1023456789', '2123456789', '1123456789', '2133456789', '*112345678', '3112456789', '0123456789', '1023556789', '0123456789', '2023456789', '0123456789', '1123456789', '0623456679', '9223456789', '0223456789', '0223456789', '5123345678', '1113456789', '0123456789', '1123456789', '1123456789', '0123456789', '0123456789', '3113456789', '0123456789', '1113456789', '1123456789', '0123456789', '1123456789', '6122345678', '2123456789', '8023445778', '0123456789', '0113456789', '5223355679', '0823455678', '1023456789', '0123456789', '1123456789', '0023456789', '0123456789', '0123456789', '8023455678', '0123456789', '0123456789', '9123456789', '3123456789', '1233456789', '0123456789', '1123456789', '8123456789', '8123455789', '1023456789', '1113456789', '0123456789', '0023456789', '0023446789', '1123456789', '1013456789', '1023456789', '0123456789', '1123456789', '0123456789', '0023456789', '1123456789', '0123456789', '*012345678', '0123456789', '0323456789', '0123456789', '1123456789', '1123456789', '1123456789', '5123345678', '1123456789', '4122345678', '2123456789', '0123456789', '1123456789', '7123345678', '8123456689', '0223456789', '1123456789', '6122345678', '9123456789', '1133456789', '3113456789', '0023456789', '3223456789', '0023456789', '5122345678', '1123556789', '1123456789', '9923456689', '2123456789', '1123456789', '2123456789', '0123456789', '1134456789', '0123456789', '0123456789', '0123456789', '0123456789', '0123456789', '9023456789', '9123456789', '1123456789', '3123456789', '0123456789', '6112345678', '0123456789', '0123456789', '1823455789']\n"
     ]
    }
   ],
   "source": [
    "import numpy\n",
    "def mnrnd(probs):\n",
    "    rnd = numpy.random.random()\n",
    "    for i in xrange(len(probs)):\n",
    "        rnd -= probs[i]\n",
    "        if rnd <= 0:\n",
    "            return i\n",
    "    return i\n",
    "\n",
    "sentences = numpy.zeros((128, n_timestamps, max_features))\n",
    "sentences[:, 0, 0] = 1\n",
    "\n",
    "# Start sampling char-sequences. At each iteration i the probability over\n",
    "# the i-th character of each sequences is computed. \n",
    "for i in numpy.arange(10):\n",
    "    probs = model.predict_proba(sentences, verbose=2)[:,i,:]\n",
    "    # Go over each sequence and sample the i-th character.\n",
    "    for j in numpy.arange(len(sentences)):\n",
    "        sentences[j, i+1, mnrnd(probs[j, :])] = 1\n",
    "sentences = [sentence[1:].nonzero()[1] for sentence in sentences]\n",
    "\n",
    "# Convert to readable text.\n",
    "text = []\n",
    "for sentence in sentences:\n",
    "    text.append(''.join([dct[word] for word in sentence]))\n",
    "print text\n"
   ]
  },
  {
   "cell_type": "code",
   "execution_count": 43,
   "metadata": {
    "scrolled": false
   },
   "outputs": [
    {
     "name": "stdout",
     "output_type": "stream",
     "text": [
      "1123456789\n",
      "0123456789\n",
      "6922345678\n",
      "9113456689\n",
      "0023456789\n",
      "0123456789\n",
      "9123456789\n",
      "0123456789\n",
      "2223456789\n",
      "0023456789\n",
      "0123456789\n",
      "4013345678\n",
      "1023456789\n",
      "0013456789\n",
      "0123456789\n",
      "1023456789\n",
      "2123456789\n",
      "1123456789\n",
      "2133456789\n",
      "*112345678\n"
     ]
    }
   ],
   "source": [
    "for ix in text[:20]:\n",
    "    print ix"
   ]
  }
 ],
 "metadata": {
  "kernelspec": {
   "display_name": "Python 2",
   "language": "python",
   "name": "python2"
  },
  "language_info": {
   "codemirror_mode": {
    "name": "ipython",
    "version": 2
   },
   "file_extension": ".py",
   "mimetype": "text/x-python",
   "name": "python",
   "nbconvert_exporter": "python",
   "pygments_lexer": "ipython2",
   "version": "2.7.10"
  }
 },
 "nbformat": 4,
 "nbformat_minor": 2
}
