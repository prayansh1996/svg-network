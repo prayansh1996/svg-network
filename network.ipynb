{
 "cells": [
  {
   "cell_type": "code",
   "execution_count": 12,
   "metadata": {},
   "outputs": [],
   "source": [
    "import keras\n",
    "import numpy as np\n",
    "import pickle"
   ]
  },
  {
   "cell_type": "code",
   "execution_count": 13,
   "metadata": {},
   "outputs": [],
   "source": [
    "class Fonts:\n",
    "    def __init__(self, name, d):\n",
    "        self.name = name\n",
    "        self.d = d\n",
    "\n",
    "f = open(\"savedFonts\", 'r')\n",
    "fonts = pickle.load(f)"
   ]
  },
  {
   "cell_type": "code",
   "execution_count": 55,
   "metadata": {},
   "outputs": [],
   "source": [
    "commands = []\n",
    "for i, font in enumerate(fonts):\n",
    "    commands.append([])\n",
    "    for command in font.d:\n",
    "        commands[i].append(command[0])"
   ]
  },
  {
   "cell_type": "code",
   "execution_count": 69,
   "metadata": {
    "collapsed": true
   },
   "outputs": [
    {
     "name": "stdout",
     "output_type": "stream",
     "text": [
      "[['M', 'q', 't', 't', 't', 'q', 't', 't', 't', 'z', 'M', 'v', 'q', 't', 't', 'h', 'v', 'h', 'v', 'h', 'q', 't', 't', 'v', 'q', 't', 't', 'h', 'v', 'q', 'h', 'z'], ['M', 'l', 'h', 'v', 'h', 'v', 'z', 'M', 'q', 't', 't', 't', 't', 't', 't', 't', 't', 't', 't', 't', 't', 't', 't', 't', 'z'], ['M', 'q', 'v', 'h', 'v', 'q', 'v', 'q', 'v', 'h', 'v', 'z', 'M', 'q', 't', 'q', 't', 't', 't', 'q', 't', 't', 't', 'z'], ['M', 'q', 't', 'q', 't', 'q', 't', 'q', 't', 'z', 'M', 'l', 'h', 'v', 'h', 'v', 'z'], ['M', 'q', 'q', 't', 'q', 't', 'z', 'M', 'q', 'q', 'q', 'l', 'q', 'q', 'q', 'q', 't', 'l', 'q', 't', 'l', 'q', 'q', 'q', 'q', 'l', 'q', 'q', 'q', 'v', 'q', 't', 'q', 'q', 'z'], ['M', 'q', 't', 't', 't', 'q', 't', 't', 't', 't', 't', 't', 't', 'q', 't', 't', 't', 'z', 'M', 'l', 'h', 'v', 'h', 'v', 'z'], ['M', 'l', 'h', 'v', 'h', 'v', 'z', 'M', 'q', 't', 't', 't', 't', 't', 't', 't', 't', 't', 't', 't', 't', 't', 't', 't', 'z'], ['M', 'q', 't', 't', 't', 't', 't', 't', 't', 'z', 'M', 'h', 'v', 'h', 'v', 'h', 'v', 'h', 'v', 'h', 'v', 'z'], ['M', 'q', 'h', 'l', 'h', 'q', 'h', 'q', 't', 'h', 'q', 'q', 'q', 't', 'v', 'q', 't', 'l', 'h', 'q', 't', 'q', 'q', 'h', 'q', 'h', 'h', 'q', 'q', 'q', 't', 'v', 'q', 't', 'q', 'z'], ['M', 'v', 'h', 'v', 'h', 'z', 'M', 'v', 'h', 'v', 'h', 'z'], ['M', 'q', 't', 'q', 't', 'q', 't', 't', 't', 'z', 'M', 'h', 'l', 'h', 'l', 'h', 'z'], ['M', 'q', 't', 't', 't', 'q', 't', 't', 't', 'z', 'M', 'l', 'q', 'q', 't', 'q', 'q', 'l', 'q', 'q', 't', 'q', 'l', 'q', 'q', 't', 'q', 'l', 'l', 'h', 'z'], ['M', 'h', 'v', 'h', 'v', 'v', 'z', 'M', 'v', 'h', 'v', 'h', 'v', 'z'], ['M', 'h', 'v', 'h', 'v', 'z', 'M', 'q', 't', 't', 't', 't', 't', 'q', 't', 'z'], ['M', 'v', 'h', 'v', 'h', 'z', 'M', 'v', 'h', 'v', 'h', 'z'], ['M', 'q', 't', 't', 't', 't', 't', 't', 't', 'z', 'M', 'q', 't', 't', 't', 't', 't', 't', 't', 'z', 'M', 'q', 't', 'q', 't', 't', 't', 'q', 't', 'z', 'M', 'h', 'v', 'h', 'v', 'z'], ['M', 'v', 'h', 'v', 'h', 'z', 'M', 'v', 'h', 'v', 'h', 'z'], ['M', 'h', 'v', 'q', 't', 'q', 't', 'v', 'q', 't', 'q', 't', 'v', 'l', 'l', 'v', 'q', 't', 'q', 't', 'v', 'z', 'M', 'q', 't', 'q', 't', 't', 't', 't', 't', 'z'], ['M', 'h', 'v', 'h', 'v', 'h', 'v', 'h', 'v', 'h', 'v', 'z', 'M', 'q', 't', 'q', 't', 'q', 't', 'q', 't', 'z'], ['M', 'q', 't', 'q', 't', 'q', 't', 't', 't', 'z', 'M', 'h', 'v', 'h', 'v', 'h', 'v', 'z'], ['M', 'q', 't', 't', 't', 't', 't', 't', 't', 'z', 'M', 'q', 't', 'q', 't', 'q', 't', 'q', 't', 'q', 't', 'q', 't', 't', 't', 'q', 't', 'z'], ['M', 'v', 'h', 'v', 'h', 'z', 'M', 'v', 'h', 'v', 'h', 'z'], ['M', 'v', 'h', 'v', 'h', 'z', 'M', 'v', 'h', 'v', 'h', 'z'], ['M', 'l', 'q', 't', 'q', 't', 'q', 't', 'l', 'q', 't', 'q', 't', 'q', 't', 'l', 'q', 't', 'q', 't', 'q', 't', 'l', 'q', 't', 'q', 't', 'q', 't', 'z', 'M', 'q', 't', 't', 't', 't', 't', 't', 't', 'z'], ['M', 'l', 'h', 'v', 'h', 'v', 'z', 'M', 'q', 't', 't', 't', 't', 't', 't', 't', 't', 't', 't', 't', 't', 't', 't', 't', 'z'], ['M', 'q', 't', 't', 't', 'q', 't', 'q', 't', 'z', 'M', 'q', 'q', 'q', 'q', 'q', 'q', 'q', 'q', 't', 'v', 'q', 't', 'q', 'q', 'q', 't', 'q', 'q', 'q', 'v', 'q', 't', 'q', 'z'], ['M', 'q', 't', 't', 't', 'q', 't', 'q', 't', 'z', 'M', 'v', 'q', 't', 't', 't', 'v', 'h', 'l', 'v', 'q', 't', 'q', 't', 'v', 'q', 't', 't', 't', 'v', 'h', 'z'], ['M', 'h', 'v', 'h', 'v', 'z', 'M', 'q', 't', 't', 't', 't', 't', 't', 't', 'z'], ['M', 'q', 't', 'h', 'q', 'h', 'v', 'h', 'q', 'h', 'q', 'h', 'q', 'h', 'q', 'h', 'v', 'h', 'q', 'h', 'q', 't', 'h', 'z'], ['M', 'q', 't', 't', 't', 't', 't', 'q', 't', 'q', 't', 'q', 't', 'q', 't', 'q', 't', 't', 't', 'q', 't', 'q', 't', 'q', 't', 'z'], ['M', 'q', 't', 't', 't', 'q', 't', 'q', 't', 'q', 't', 'q', 't', 'q', 't', 'q', 't', 'q', 't', 't', 't', 'v', 'q', 't', 't', 't', 'q', 't', 't', 't', 'q', 't', 't', 't', 'q', 't', 'q', 't', 'v', 'z', 'M', 'q', 't', 't', 't', 'q', 't', 'q', 't', 'z'], ['M', 'q', 't', 't', 't', 'q', 't', 'q', 'q', 't', 'v', 'q', 't', 'q', 'q', 'q', 't', 'q', 't', 'q', 'q', 't', 'v', 'q', 't', 'q', 'q', 't', 'q', 't', 't', 't', 'z', 'M', 'q', 't', 'q', 't', 'q', 't', 'q', 't', 'z'], ['M', 'v', 'h', 'v', 'h', 'z', 'M', 'v', 'h', 'v', 'h', 'z'], ['M', 'h', 'v', 'h', 'v', 'z', 'M', 'h', 'v', 'h', 'v', 'z'], ['M', 'c', 's', 'c', 's', 'z', 'M', 'c', 'c', 'c', 'c', 'c', 'c', 'c', 'c', 'c', 'c', 'z'], ['M', 'q', 'q', 'q', 'q', 'q', 'l', 'l', 'l', 'q', 'q', 'q', 'q', 'q', 't', 'q', 'q', 'l', 'q', 'l', 'l', 'q', 'q', 'q', 'z', 'M', 'l', 'q', 'q', 'q', 'z'], ['M', 'v', 'h', 'v', 'h', 'z', 'M', 'v', 'h', 'v', 'h', 'z'], ['M', 'l', 'h', 'l', 'h', 'z', 'M', 'l', 'h', 'q', 't', 'q', 't', 'h', 'q', 't', 'q', 't', 'h', 'l', 'h', 'q', 't', 'q', 't', 'h', 'z'], ['M', 'v', 'h', 'v', 'h', 'z', 'M', 'v', 'h', 'q', 't', 'q', 't', 'h', 'q', 't', 'q', 't', 'h', 'v', 'h', 'q', 't', 'q', 't', 'h', 'z'], ['M', 'v', 'h', 'v', 'h', 'z', 'M', 'v', 'h', 'v', 'h', 'z'], ['M', 'h', 'v', 'h', 'v', 'h', 'v', 'h', 'v', 'h', 'v', 'z', 'M', 'q', 't', 'q', 't', 't', 't', 'q', 't', 'z'], ['M', 'q', 't', 't', 't', 't', 't', 't', 't', 'z', 'M', 'q', 't', 't', 't', 't', 't', 't', 't', 'z', 'M', 'q', 't', 'q', 't', 'q', 't', 'q', 't', 'z', 'M', 'q', 't', 'q', 't', 't', 't', 'q', 't', 'z'], ['M', 'q', 't', 'q', 't', 't', 't', 't', 't', 'z', 'M', 'v', 'l', 'v', 'q', 'h', 'v', 'h', 'v', 'h', 'q', 'v', 'q', 'h', 'z'], ['M', 'v', 'h', 'v', 'h', 'z', 'M', 'v', 'h', 'v', 'h', 'z'], ['M', 'v', 'h', 'v', 'h', 'z', 'M', 'v', 'h', 'v', 'h', 'z'], ['M', 'h', 'v', 'h', 'v', 'z', 'M', 'v', 'h', 'v', 'h', 'z'], ['M', 'v', 'h', 'v', 'h', 'z', 'M', 'v', 'h', 'v', 'h', 'z'], ['M', 'h', 'v', 'h', 'v', 'z', 'M', 'h', 'v', 'h', 'v', 'z'], ['M', 'l', 'h', 'v', 'h', 'v', 'z', 'M', 'q', 't', 't', 't', 't', 't', 't', 't', 't', 't', 't', 't', 't', 't', 't', 't', 'z'], ['M', 'v', 'h', 'v', 'h', 'z', 'M', 'v', 'h', 'v', 'h', 'z'], ['M', 'q', 't', 'q', 'q', 't', 'q', 'z', 'M', 'q', 't', 'q', 't', 'q', 't', 't', 't', 'q', 't', 't', 't', 'q', 't', 'q', 'q', 't', 'q', 't', 't', 't', 'q', 't', 'q', 't', 't', 't', 'q', 't', 'z'], ['M', 'h', 'v', 'q', 't', 'q', 't', 'v', 'q', 't', 'q', 't', 'v', 'l', 'l', 'v', 'q', 't', 'q', 't', 'v', 'z', 'M', 'q', 't', 'q', 't', 'q', 't', 'q', 't', 'z'], ['M', 'v', 'h', 'v', 'h', 'z', 'M', 'v', 'h', 'v', 'h', 'z'], ['M', 'v', 'h', 'v', 'h', 'z', 'M', 'v', 'h', 'v', 'h', 'z'], ['M', 'v', 'h', 'v', 'h', 'z', 'M', 'q', 't', 'q', 'q', 't', 'q', 't', 't', 'z'], ['M', 'c', 's', 's', 'c', 'z', 'M', 'h', 'v', 'c', 'v', 'c', 'v', 'h', 'v', 'c', 'v', 'z'], ['M', 'h', 'v', 'h', 'v', 'z', 'M', 'h', 'v', 'h', 'v', 'z'], ['M', 'h', 'v', 'h', 'v', 'z', 'M', 'h', 'v', 'h', 'v', 'z'], ['M', 'q', 'q', 't', 'q', 't', 'z', 'M', 'q', 'q', 'q', 'l', 'q', 'q', 'q', 'q', 't', 'l', 'q', 't', 'l', 'q', 'q', 'q', 'q', 'l', 'q', 'q', 'q', 'v', 'q', 't', 'q', 'q', 'z'], ['M', 'h', 'l', 'h', 'z', 'M', 'h', 'l', 'h', 'z'], ['M', 'h', 'v', 'h', 'v', 'z', 'M', 'h', 'q', 't', 'q', 't', 'h', 'q', 't', 'q', 't', 'z'], ['M', 'l', 'h', 'l', 'h', 'z', 'M', 'l', 'h', 'l', 'h', 'z'], ['M', 'v', 'h', 'v', 'h', 'z', 'M', 'v', 'h', 'q', 't', 'q', 't', 'h', 'q', 't', 'q', 't', 'h', 'v', 'h', 'q', 't', 'q', 't', 'h', 'z'], ['M', 'q', 't', 't', 't', 't', 't', 't', 't', 'z', 'M', 'v', 'q', 't', 'v', 'h', 'v', 'q', 'q', 'v', 'q', 't', 'v', 'h', 'z'], ['M', 'h', 'v', 'h', 'v', 'z', 'M', 'h', 'v', 'h', 'v', 'z'], ['M', 'v', 'h', 'v', 'h', 'z', 'M', 'v', 'h', 'v', 'h', 'z'], ['M', 'c', 'c', 'c', 'c', 'z', 'M', 'h', 'v', 'c', 'v', 'c', 'c', 'v', 'l', 'l', 'v', 'c', 'v', 'z'], ['M', 'v', 'h', 'v', 'h', 'z', 'M', 'v', 'h', 'v', 'h', 'z'], ['M', 'h', 'v', 'h', 'v', 'z', 'M', 'q', 't', 'q', 't', 'q', 't', 'q', 't', 'z'], ['M', 'v', 'h', 'v', 'h', 'z', 'M', 'v', 'h', 'v', 'h', 'z'], ['M', 'l', 'h', 'l', 'h', 'z', 'M', 'l', 'h', 'l', 'h', 'z'], ['M', 'v', 'h', 'v', 'h', 'z', 'M', 'v', 'h', 'v', 'h', 'z'], ['M', 'q', 't', 't', 't', 't', 't', 't', 't', 'z', 'M', 'q', 't', 'q', 't', 't', 't', 'q', 't', 'q', 't', 'q', 't', 't', 't', 'q', 't', 'z'], ['M', 'v', 'h', 'v', 'h', 'z', 'M', 'v', 'h', 'v', 'h', 'z'], ['M', 'h', 'l', 'h', 'z', 'M', 'h', 'l', 'h', 'z'], ['M', 'v', 'q', 't', 't', 't', 'v', 'q', 't', 't', 't', 'z', 'M', 'q', 't', 'q', 't', 'q', 't', 'q', 't', 'z'], ['M', 'q', 't', 'q', 't', 'q', 't', 'q', 't', 'z', 'M', 'l', 'q', 'q', 't', 'q', 'l', 'l', 'q', 't', 'q', 't', 'q', 'l', 'z'], ['M', 'l', 'h', 'v', 'h', 'v', 'z', 'M', 'q', 't', 't', 't', 't', 't', 't', 't', 't', 't', 't', 't', 't', 't', 't', 't', 'z'], ['M', 'h', 'v', 'q', 't', 'v', 'l', 'v', 'q', 't', 'h', 'v', 'q', 't', 'v', 'z', 'M', 'q', 't', 't', 't', 't', 't', 't', 't', 'z'], ['M', 'q', 't', 'q', 't', 't', 't', 'q', 't', 'z', 'M', 'l', 'q', 'q', 't', 'q', 'q', 'l', 'q', 'q', 'q', 't', 't', 'l', 'q', 'q', 't', 'q', 'v', 'z'], ['M', 'q', 't', 't', 't', 'q', 'q', 't', 't', 't', 't', 't', 'l', 'q', 't', 't', 't', 't', 't', 'q', 't', 'q', 't', 't', 't', 'h', 'z', 'M', 'q', 't', 't', 't', 't', 't', 't', 't', 'z'], ['M', 'c', 's', 'c', 'c', 'z', 'M', 'l', 'c', 'c', 'c', 'l', 'c', 'c', 'h', 'v', 'c', 'l', 'c', 'c', 'c', 'z'], ['M', 'l', 'q', 't', 'q', 't', 'q', 't', 'l', 'q', 't', 'q', 't', 'q', 't', 'l', 'q', 't', 'q', 't', 'q', 't', 'l', 'q', 't', 'q', 't', 'q', 't', 'z', 'M', 'q', 't', 'q', 't', 'q', 't', 'q', 't', 'z'], ['M', 'q', 't', 'q', 't', 'q', 't', 'q', 't', 'q', 't', 'q', 't', 'z', 'M', 'q', 't', 't', 't', 'q', 't', 't', 't', 'z'], ['M', 'l', 'h', 'l', 'h', 'z', 'M', 'l', 'h', 'q', 't', 'q', 'q', 'h', 'q', 't', 'q', 'q', 'h', 'l', 'h', 'q', 't', 'q', 'q', 'h', 'z'], ['M', 'v', 'q', 'v', 'q', 'v', 'l', 'v', 'q', 'v', 'h', 'z', 'M', 'q', 'q', 'q', 'q', 'z'], ['M', 'c', 'c', 'c', 's', 'z', 'M', 'l', 'c', 'c', 'c', 'l', 'c', 'c', 'v', 'c', 'l', 'l', 'c', 'c', 'c', 'z'], ['M', 'v', 'h', 'v', 'h', 'z', 'M', 'q', 't', 't', 't', 't', 't', 't', 't', 'z'], ['M', 'q', 't', 'q', 't', 'q', 't', 'q', 't', 'z', 'M', 'h', 'q', 'q', 't', 'h', 'q', 'q', 't', 'h', 'q', 'q', 't', 't', 't', 'q', 'q', 't', 'q', 't', 't', 'v', 'q', 'z'], ['M', 'q', 't', 'v', 'q', 't', 'v', 'h', 'v', 'q', 'v', 'q', 'v', 'h', 'v', 'z'], ['M', 'h', 'v', 'l', 'l', 'v', 'h', 'v', 'l', 'l', 'v', 'h', 'v', 'z', 'M', 'q', 't', 't', 't', 'q', 't', 'q', 't', 'z'], ['M', 'v', 'h', 'v', 'h', 'z', 'M', 'v', 'h', 'v', 'h', 'z'], ['M', 'q', 't', 't', 't', 't', 't', 't', 't', 't', 't', 't', 't', 't', 't', 't', 't', 'z', 'M', 'l', 'h', 'v', 'h', 'v', 'z'], ['M', 'h', 'v', 'h', 'v', 'z', 'M', 'h', 'v', 'h', 'v', 'z'], ['M', 'l', 'h', 'v', 'h', 'v', 'z', 'M', 'q', 't', 't', 't', 't', 't', 't', 't', 't', 't', 't', 't', 't', 't', 't', 't', 'z'], ['M', 'l', 'h', 'l', 'h', 'z', 'M', 'l', 'h', 'l', 'h', 'z'], ['M', 'v', 'q', 'q', 'q', 'q', 'q', 'q', 't', 'q', 't', 'q', 'q', 'q', 'q', 'q', 't', 'q', 'v', 'v', 'v', 'q', 'q', 't', 'q', 'q', 'q', 'q', 'q', 't', 'q', 'q', 't', 'q', 'q', 'z', 'M', 'q', 't', 't', 't', 't', 't', 't', 't', 'z'], ['M', 'q', 't', 't', 't', 't', 't', 't', 't', 'q', 't', 'q', 't', 't', 't', 'z', 'M', 'l', 'h', 'v', 'h', 'v', 'z'], ['M', 'q', 't', 'q', 't', 'q', 't', 'q', 't', 'q', 't', 'q', 't', 'z', 'M', 'q', 't', 't', 't', 'q', 't', 't', 't', 'z'], ['M', 'q', 't', 't', 't', 'v', 'l', 'v', 'q', 't', 't', 't', 'v', 'q', 't', 'q', 't', 'v', 'q', 't', 't', 't', 'v', 'z', 'M', 'q', 't', 't', 't', 't', 't', 't', 't', 'z'], ['M', 'l', 'v', 'l', 'v', 'h', 'v', 'l', 'v', 'z'], ['M', 'q', 't', 'q', 't', 'q', 't', 'q', 't', 'z', 'M', 'v', 'q', 't', 'q', 't', 'q', 't', 't', 'q', 'q', 'q', 't', 'q', 't', 'q', 't', 'q', 't', 'z'], ['M', 'v', 'h', 'v', 'h', 'z', 'M', 'v', 'h', 'v', 'h', 'z'], ['M', 'q', 't', 'q', 't', 'q', 't', 't', 't', 'z', 'M', 'v', 'h', 'v', 'h', 'v', 'h', 'z'], ['M', 'v', 'h', 'v', 'h', 'z', 'M', 'v', 'h', 'v', 'h', 'z'], ['M', 'h', 'v', 'h', 'v', 'z', 'M', 'v', 'h', 'v', 'h', 'z'], ['M', 'h', 'v', 'h', 'v', 'z', 'M', 'h', 'v', 'h', 'v', 'z'], ['M', 'l', 'h', 'l', 'h', 'z', 'M', 'l', 'h', 'l', 'h', 'z'], ['M', 'q', 't', 't', 't', 't', 't', 't', 't', 'z', 'M', 'v', 'h', 'v', 'h', 'v', 'h', 'z'], ['M', 'q', 't', 'q', 't', 'q', 't', 'q', 't', 'z', 'M', 'h', 'v', 'h', 'v', 'z'], ['M', 'q', 't', 't', 't', 't', 't', 't', 't', 'z', 'M', 'v', 'q', 't', 't', 'v', 'h', 'v', 'q', 't', 't', 'v', 'q', 'q', 't', 'q', 'l', 'l', 'h', 'z'], ['M', 'q', 't', 'q', 't', 't', 't', 'q', 't', 'z', 'M', 'l', 'h', 'l', 'h', 'l', 'h', 'z'], ['M', 'h', 'v', 'h', 'v', 'z', 'M', 'q', 't', 't', 't', 't', 't', 't', 't', 'z'], ['M', 'h', 'v', 'h', 'v', 'z', 'M', 'h', 'v', 'h', 'v', 'z'], ['M', 'q', 't', 't', 't', 't', 't', 't', 't', 't', 't', 't', 't', 't', 't', 't', 't', 'z', 'M', 'l', 'h', 'v', 'h', 'v', 'z']]\n"
     ]
    }
   ],
   "source": [
    "print commands"
   ]
  },
  {
   "cell_type": "code",
   "execution_count": 62,
   "metadata": {},
   "outputs": [
    {
     "name": "stdout",
     "output_type": "stream",
     "text": [
      "Removed:  0\n",
      "Max Len 50\n"
     ]
    }
   ],
   "source": [
    "#Remove long commands\n",
    "maxCommandLen = 50\n",
    "count = 0\n",
    "for command in commands:\n",
    "    if len(command) > maxLen:\n",
    "        commands.remove(command)\n",
    "        count += 1\n",
    "        \n",
    "print 'Removed: ', count\n",
    "print 'Max Len', max([len(command) for command in commands])"
   ]
  },
  {
   "cell_type": "code",
   "execution_count": 63,
   "metadata": {},
   "outputs": [],
   "source": [
    "#There are no other upper cased commands\n",
    "for command in commands:\n",
    "    for c in command:\n",
    "        if c != 'M' and c.isupper():\n",
    "            print c"
   ]
  },
  {
   "cell_type": "code",
   "execution_count": 65,
   "metadata": {},
   "outputs": [],
   "source": [
    "#Create dictionary for mapping to one hot vectors\n",
    "commandList = ['M','m','l','h','v','z','c','s','q','t','a']\n",
    "oneHotMap = {}\n",
    "for i, c in enumerate(commandList):\n",
    "    oneHotMap[c] = i"
   ]
  },
  {
   "cell_type": "code",
   "execution_count": 67,
   "metadata": {},
   "outputs": [],
   "source": [
    "#X train\n",
    "X = np.zeros((len(commands), maxCommandLen, len(commandList)))"
   ]
  },
  {
   "cell_type": "code",
   "execution_count": 70,
   "metadata": {},
   "outputs": [],
   "source": [
    "for i, command in enumerate(commands):\n",
    "    for j, c in enumerate(command):\n",
    "        X[i, j, oneHotMap[c]] = 1"
   ]
  },
  {
   "cell_type": "code",
   "execution_count": 71,
   "metadata": {},
   "outputs": [
    {
     "name": "stdout",
     "output_type": "stream",
     "text": [
      "[[[1. 0. 0. ... 0. 0. 0.]\n",
      "  [0. 0. 0. ... 1. 0. 0.]\n",
      "  [0. 0. 0. ... 0. 1. 0.]\n",
      "  ...\n",
      "  [0. 0. 0. ... 0. 0. 0.]\n",
      "  [0. 0. 0. ... 0. 0. 0.]\n",
      "  [0. 0. 0. ... 0. 0. 0.]]\n",
      "\n",
      " [[1. 0. 0. ... 0. 0. 0.]\n",
      "  [0. 0. 1. ... 0. 0. 0.]\n",
      "  [0. 0. 0. ... 0. 0. 0.]\n",
      "  ...\n",
      "  [0. 0. 0. ... 0. 0. 0.]\n",
      "  [0. 0. 0. ... 0. 0. 0.]\n",
      "  [0. 0. 0. ... 0. 0. 0.]]\n",
      "\n",
      " [[1. 0. 0. ... 0. 0. 0.]\n",
      "  [0. 0. 0. ... 1. 0. 0.]\n",
      "  [0. 0. 0. ... 0. 0. 0.]\n",
      "  ...\n",
      "  [0. 0. 0. ... 0. 0. 0.]\n",
      "  [0. 0. 0. ... 0. 0. 0.]\n",
      "  [0. 0. 0. ... 0. 0. 0.]]\n",
      "\n",
      " ...\n",
      "\n",
      " [[1. 0. 0. ... 0. 0. 0.]\n",
      "  [0. 0. 0. ... 0. 0. 0.]\n",
      "  [0. 0. 0. ... 0. 0. 0.]\n",
      "  ...\n",
      "  [0. 0. 0. ... 0. 0. 0.]\n",
      "  [0. 0. 0. ... 0. 0. 0.]\n",
      "  [0. 0. 0. ... 0. 0. 0.]]\n",
      "\n",
      " [[1. 0. 0. ... 0. 0. 0.]\n",
      "  [0. 0. 0. ... 0. 0. 0.]\n",
      "  [0. 0. 0. ... 0. 0. 0.]\n",
      "  ...\n",
      "  [0. 0. 0. ... 0. 0. 0.]\n",
      "  [0. 0. 0. ... 0. 0. 0.]\n",
      "  [0. 0. 0. ... 0. 0. 0.]]\n",
      "\n",
      " [[1. 0. 0. ... 0. 0. 0.]\n",
      "  [0. 0. 0. ... 1. 0. 0.]\n",
      "  [0. 0. 0. ... 0. 1. 0.]\n",
      "  ...\n",
      "  [0. 0. 0. ... 0. 0. 0.]\n",
      "  [0. 0. 0. ... 0. 0. 0.]\n",
      "  [0. 0. 0. ... 0. 0. 0.]]]\n"
     ]
    }
   ],
   "source": [
    "print X"
   ]
  },
  {
   "cell_type": "code",
   "execution_count": null,
   "metadata": {},
   "outputs": [],
   "source": []
  }
 ],
 "metadata": {
  "kernelspec": {
   "display_name": "Python 2",
   "language": "python",
   "name": "python2"
  },
  "language_info": {
   "codemirror_mode": {
    "name": "ipython",
    "version": 2
   },
   "file_extension": ".py",
   "mimetype": "text/x-python",
   "name": "python",
   "nbconvert_exporter": "python",
   "pygments_lexer": "ipython2",
   "version": "2.7.10"
  }
 },
 "nbformat": 4,
 "nbformat_minor": 2
}
